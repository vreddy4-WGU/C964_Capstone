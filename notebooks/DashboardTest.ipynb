{
 "cells": [
  {
   "cell_type": "markdown",
   "id": "40cd349b1a3a5c48",
   "metadata": {},
   "source": [
    "<h1><center>Reddit Sentiment Analysis - C964 Vikram Reddy</center></h1>"
   ]
  },
  {
   "cell_type": "code",
   "execution_count": 1,
   "id": "139e2d5513854830",
   "metadata": {
    "is_executing": true
   },
   "outputs": [],
   "source": [
    "#import packages\n",
    "import praw\n",
    "from datetime import date, timedelta\n",
    "import os\n",
    "import pandas as pd\n",
    "import matplotlib.pyplot as plt\n",
    "from dash import Dash, dcc, html, Input, Output, dash_table, callback\n",
    "import dash_bootstrap_components as dbc\n",
    "from dash_bootstrap_templates import load_figure_template, template_from_url\n",
    "import plotly.express as px\n",
    "from vaderSentiment.vaderSentiment import SentimentIntensityAnalyzer\n",
    "from IPython.core.display_functions import display"
   ]
  },
  {
   "cell_type": "markdown",
   "id": "acb55e27d455ee7d",
   "metadata": {},
   "source": [
    "Define Variables"
   ]
  },
  {
   "cell_type": "code",
   "execution_count": 2,
   "id": "1f7d5f046d18e98e",
   "metadata": {
    "is_executing": true
   },
   "outputs": [],
   "source": [
    "g_client_id=\"hwukA0emNXXE_iaver84pg\"\n",
    "g_client_secret=\"Gly0NvAbFwi5rFmjN-UvyjfJ3uIP8g\"\n",
    "g_user_agent=\"SentimentAnalysisScraper\"\n",
    "g_subreddit = \"Excel\"\n",
    "g_num_posts=25"
   ]
  },
  {
   "cell_type": "markdown",
   "id": "1113f9ea4a57de65",
   "metadata": {},
   "source": [
    "<h2>Getting Posts and Comments from Reddit</h2>"
   ]
  },
  {
   "cell_type": "code",
   "execution_count": 3,
   "id": "2de83a1843482189",
   "metadata": {
    "is_executing": true
   },
   "outputs": [],
   "source": [
    "def init_reddit_app():\n",
    "    reddit = praw.Reddit(\n",
    "        client_id=g_client_id,\n",
    "        client_secret=g_client_secret,\n",
    "        user_agent=g_user_agent\n",
    "    )\n",
    "    return reddit\n",
    "\n",
    "\n",
    "def get_posts(reddit, subreddit,time_span):\n",
    "    posts = []\n",
    "    top_posts = reddit.subreddit(subreddit).top(time_filter=time_span, limit=g_num_posts)\n",
    "\n",
    "    for post in top_posts:\n",
    "        posts.append(post.id)\n",
    "    return posts\n",
    "\n",
    "\n",
    "def get_comments(reddit, posts_id):\n",
    "    df_comments = pd.DataFrame(columns=['post_id', 'comment_id', 'comment_text'])\n",
    "    for _id in posts_id:\n",
    "        submission = reddit.submission(id=_id)\n",
    "        #print(submission.title, submission.num_comments)\n",
    "        submission.comments.replace_more(limit=0)\n",
    "\n",
    "        for comment in submission.comments.list():\n",
    "            try:\n",
    "                df_comments.loc[len(df_comments.index)] = [comment.submission.id, comment.id, comment.body]\n",
    "            except AttributeError:\n",
    "                pass\n",
    "    return df_comments\n",
    "\n",
    "\n",
    "def get_data(subreddit,time_span):\n",
    "    reddit = init_reddit_app()\n",
    "    postids = get_posts(reddit, subreddit, time_span)\n",
    "    df = get_comments(reddit, postids)\n",
    "#   display(df)\n",
    "    return df"
   ]
  },
  {
   "cell_type": "markdown",
   "id": "f95df371",
   "metadata": {},
   "source": [
    "## Score the Comments"
   ]
  },
  {
   "cell_type": "code",
   "execution_count": 45,
   "id": "ba6878c8fd79b078",
   "metadata": {
    "is_executing": true
   },
   "outputs": [],
   "source": [
    "def sentiment_analyser_score(df):\n",
    "    analyser = SentimentIntensityAnalyzer()\n",
    "    df_sentiment = pd.DataFrame(columns=[\"comment_id\", \"comp_score\", \"sentiment\"])\n",
    "    #   values = list(df.comment_text.values.flatten())\n",
    "    values = list(df.comment_text.values)\n",
    "    for row in values:\n",
    "        score = analyser.polarity_scores(row)\n",
    "        if score[\"compound\"] > 0.5:\n",
    "            sentiment = \"positive\"\n",
    "        elif score[\"compound\"] < -0.05:\n",
    "            sentiment = \"negative\"\n",
    "        else:\n",
    "            sentiment = \"neutral\"\n",
    "        df_sentiment.loc[len(df_sentiment.index)] = [df.comment_id.loc[len(df_sentiment.index)], score[\"compound\"], sentiment]\n",
    "        #      Add sentiment to df\n",
    "    combined_df = df_sentiment.join(df.set_index(\"comment_id\"), on=\"comment_id\")\n",
    "    #display(combined_df)\n",
    "\n",
    "    return combined_df\n",
    "\n",
    "def score_data(df):\n",
    "    \"\"\"\n",
    "    \"\"\"\n",
    "    _df = sentiment_analyser_score(df).sort_values(by='comp_score',ascending=False)\n",
    "  #  display(_df['comment_text'].head(10))         \n",
    "    return _df\n",
    "\n",
    "def get_scored_data(time):\n",
    "    df = score_data(get_data(g_subreddit,time))\n",
    "    return df\n",
    "    "
   ]
  },
  {
   "cell_type": "code",
   "execution_count": 38,
   "id": "cc8e15bb",
   "metadata": {},
   "outputs": [],
   "source": [
    "def display_comments(df):\n",
    "    _df= sentiment_analyser_score(df).sort_values(by='comp_score',ascending=False)\n",
    "    display(_df[\"comment_text\"].head(10))\n",
    "   \n",
    "\n",
    "    \n",
    "    #return _df\n"
   ]
  },
  {
   "cell_type": "code",
   "execution_count": 6,
   "id": "5f73d0a494c52878",
   "metadata": {
    "is_executing": true
   },
   "outputs": [],
   "source": [
    "def make_plot(df):\n",
    "    df = df[\"comp_score\"].rolling(400).mean()\n",
    "    plt.plot(df)\n",
    "    plt.xlabel(\"comment no\")\n",
    "    plt.ylabel(\"Compound Sentiment Score\")\n",
    "    plt.title(\"Running mean of Compound Sentiment Score, /r/soccer\")\n",
    "    plt.show()"
   ]
  },
  {
   "cell_type": "code",
   "execution_count": 7,
   "id": "10f8d0b1236e09ee",
   "metadata": {
    "is_executing": true
   },
   "outputs": [],
   "source": [
    "def make_chart(df,time):\n",
    "    fig, ax = plt.subplots()\n",
    "    df=df[\"sentiment\"].value_counts().sort_index(axis=0).plot(kind='bar',color=['tab:red','tab:blue','tab:green'])\n",
    "    plt.title(\"Sentiment in /r/\" + g_subreddit + \" comments from past \" + time)\n",
    "    ax.bar_label(ax.containers[0], label_type='edge')\n",
    "    ax.set_ylabel('# of comments')\n",
    "    plt.xticks(rotation=0)\n",
    "    plt.show()\n"
   ]
  },
  {
   "cell_type": "code",
   "execution_count": 52,
   "id": "74f68ff9",
   "metadata": {},
   "outputs": [
    {
     "data": {
      "text/html": [
       "\n",
       "        <iframe\n",
       "            width=\"100%\"\n",
       "            height=\"650\"\n",
       "            src=\"http://127.0.0.1:8050/\"\n",
       "            frameborder=\"0\"\n",
       "            allowfullscreen\n",
       "            \n",
       "        ></iframe>\n",
       "        "
      ],
      "text/plain": [
       "<IPython.lib.display.IFrame at 0x1e9a4a2d850>"
      ]
     },
     "metadata": {},
     "output_type": "display_data"
    }
   ],
   "source": [
    "load_figure_template(\"superhero\")\n",
    "\n",
    "app = Dash(__name__, external_stylesheets=[dbc.themes.SUPERHERO])\n",
    "dropdown = dcc.Dropdown([\"day\", \"week\", \"month\"], \"day\", clearable=False)\n",
    "graph = dcc.Graph()\n",
    "app.layout = html.Div([html.H4(\"display comments\"), dropdown, graph])\n",
    "\n",
    "@callback(Output(graph, \"figure\"), Input(dropdown, \"value\"))\n",
    "def update_bar_chart(time):\n",
    "       df= get_scored_data(time)\n",
    "       dfs=df[\"sentiment\"].value_counts().sort_index(axis=0)\n",
    "       fig = px.bar(\n",
    "              dfs, \n",
    "              x=dfs.index, y=dfs.values, \n",
    "              color=dfs.index, color_discrete_map={'positive':'green','negative':'red','neutral':'blue'},\n",
    "              title=(\"Sentiment in /r/\" + g_subreddit + \" comments from past \" + time)\n",
    "              ).update_layout(xaxis_title = 'Sentiment')\n",
    "       \n",
    "\n",
    "       return fig\n",
    "\n",
    "\n",
    "\n",
    "if __name__ == \"__main__\":\n",
    "    app.run_server(debug=True)"
   ]
  },
  {
   "cell_type": "code",
   "execution_count": 54,
   "id": "8de70ed1",
   "metadata": {
    "is_executing": true
   },
   "outputs": [],
   "source": [
    "\n",
    "def comp_chart(df_d,df_w,df_m): \n",
    "        fig, ax = plt.subplots()\n",
    "        time = ['day', 'week', 'month']\n",
    "        freq = [int(df_d['sentiment'].value_counts()[\"positive\"]/len(df_d)*100),\n",
    "                int(df_w['sentiment'].value_counts()[\"positive\"]/len(df_w)*100),\n",
    "                int(df_m['sentiment'].value_counts()[\"positive\"]/len(df_m)*100)\n",
    "                ]\n",
    "        ax.bar(time, freq)\n",
    "        ax.set_ylabel('% of positive comments')\n",
    "        ax.bar_label(ax.containers[0], label_type='edge')\n",
    "        ax.set_title('Percentage of Positive /r/'+ g_subreddit + ' comments')\n",
    "        plt.show()"
   ]
  },
  {
   "cell_type": "code",
   "execution_count": 12,
   "id": "43b5ccc6",
   "metadata": {},
   "outputs": [
    {
     "name": "stdout",
     "output_type": "stream",
     "text": [
      "importing posts\n"
     ]
    },
    {
     "data": {
      "image/png": "[encoded data removed]",
      "text/plain": [
       "<Figure size 640x480 with 1 Axes>"
      ]
     },
     "metadata": {},
     "output_type": "display_data"
    }
   ],
   "source": [
    "print(\"importing posts\")\n",
    "df_day = get_data(g_subreddit,'day')\n",
    "    \n",
    "    #Analyze\n",
    "scores_day = score_data(df_day)\n",
    "   \n",
    "    #Generate Charts\n",
    "plot_day = make_chart(scores_day,\"day\") "
   ]
  },
  {
   "cell_type": "markdown",
   "id": "b5473b15",
   "metadata": {},
   "source": [
    "## Percentage of positive comments over time"
   ]
  },
  {
   "cell_type": "code",
   "execution_count": 55,
   "id": "c610bf56bd570ded",
   "metadata": {},
   "outputs": [
    {
     "data": {
      "image/png": "[encoded data removed]",
      "text/plain": [
       "<Figure size 640x480 with 1 Axes>"
      ]
     },
     "metadata": {},
     "output_type": "display_data"
    }
   ],
   "source": [
    "\n",
    "comp_chart(get_scored_data('day'),get_scored_data('week'),get_scored_data('month')) "
   ]
  }
 ],
 "metadata": {
  "kernelspec": {
   "display_name": "Python 3 (ipykernel)",
   "language": "python",
   "name": "python3"
  },
  "language_info": {
   "codemirror_mode": {
    "name": "ipython",
    "version": 3
   },
   "file_extension": ".py",
   "mimetype": "text/x-python",
   "name": "python",
   "nbconvert_exporter": "python",
   "pygments_lexer": "ipython3",
   "version": "3.11.4"
  }
 },
 "nbformat": 4,
 "nbformat_minor": 5
}
